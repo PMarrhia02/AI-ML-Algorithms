{
  "nbformat": 4,
  "nbformat_minor": 0,
  "metadata": {
    "colab": {
      "provenance": [],
      "authorship_tag": "ABX9TyNTGFPe/ahhhQBsGxuV0t3T",
      "include_colab_link": true
    },
    "kernelspec": {
      "name": "python3",
      "display_name": "Python 3"
    },
    "language_info": {
      "name": "python"
    }
  },
  "cells": [
    {
      "cell_type": "markdown",
      "metadata": {
        "id": "view-in-github",
        "colab_type": "text"
      },
      "source": [
        "<a href=\"https://colab.research.google.com/github/PMarrhia02/AI-ML-Algorithms/blob/main/ML_Algorithams.ipynb\" target=\"_parent\"><img src=\"https://colab.research.google.com/assets/colab-badge.svg\" alt=\"Open In Colab\"/></a>"
      ]
    },
    {
      "cell_type": "markdown",
      "source": [
        "# **Machine Learning Algorithms - Practical Implementations.**"
      ],
      "metadata": {
        "id": "4kkm-1lIQLvs"
      }
    },
    {
      "cell_type": "markdown",
      "source": [],
      "metadata": {
        "id": "DRWdId6tQU1v"
      }
    },
    {
      "cell_type": "code",
      "source": [
        "import pandas as pd\n",
        "import numpy as np\n",
        "from sklearn.model_selection import train_test_split\n",
        "from sklearn.preprocessing import LabelEncoder, StandardScaler\n",
        "from sklearn.linear_model import LogisticRegression\n",
        "from sklearn.metrics import accuracy_score, confusion_matrix, ConfusionMatrixDisplay, roc_curve, auc\n",
        "from sklearn.preprocessing import label_binarize\n"
      ],
      "metadata": {
        "id": "FNYeQyAVIrmO"
      },
      "execution_count": null,
      "outputs": []
    },
    {
      "cell_type": "markdown",
      "source": [
        "We have used below given import files :\n",
        "\n",
        "pandas: Working with data in tables (DataFrames).\n",
        "\n",
        "numpy : Working with numbers and arrays.\n",
        "\n",
        "from sklearn.model_selection import train_test_split: Used to split data into training and test sets.\n",
        "\n",
        "from sklearn.preprocessing import LabelEncoder, StandardScaler: Converting labels to numbers and scaling data.\n",
        "\n",
        "from sklearn.linear_model import LinearRegression, LogisticRegression: Create models for prediction.\n",
        "\n",
        "from sklearn.cluster import KMeans: Used for grouping similar data (clustering).\n",
        "\n",
        "from sklearn.neighbors import KNeighborsClassifier: Used to classify data by finding similar points.\n",
        "\n",
        "from sklearn.svm import SVC: Used to classify data using Support Vector Machines.\n",
        "\n",
        "from sklearn.metrics import accuracy_score: Used to check how well the model did.\n"
      ],
      "metadata": {
        "id": "YQ9dudL28Q47"
      }
    },
    {
      "cell_type": "code",
      "execution_count": null,
      "metadata": {
        "colab": {
          "base_uri": "https://localhost:8080/",
          "height": 73
        },
        "id": "imIGb0sv_Xny",
        "outputId": "658876d4-f9cf-4c85-f3ca-a95b7c532fa6"
      },
      "outputs": [
        {
          "output_type": "display_data",
          "data": {
            "text/plain": [
              "<IPython.core.display.HTML object>"
            ],
            "text/html": [
              "\n",
              "     <input type=\"file\" id=\"files-4c3b5b96-12b6-42a9-aff7-f91b0ffdc172\" name=\"files[]\" multiple disabled\n",
              "        style=\"border:none\" />\n",
              "     <output id=\"result-4c3b5b96-12b6-42a9-aff7-f91b0ffdc172\">\n",
              "      Upload widget is only available when the cell has been executed in the\n",
              "      current browser session. Please rerun this cell to enable.\n",
              "      </output>\n",
              "      <script>// Copyright 2017 Google LLC\n",
              "//\n",
              "// Licensed under the Apache License, Version 2.0 (the \"License\");\n",
              "// you may not use this file except in compliance with the License.\n",
              "// You may obtain a copy of the License at\n",
              "//\n",
              "//      http://www.apache.org/licenses/LICENSE-2.0\n",
              "//\n",
              "// Unless required by applicable law or agreed to in writing, software\n",
              "// distributed under the License is distributed on an \"AS IS\" BASIS,\n",
              "// WITHOUT WARRANTIES OR CONDITIONS OF ANY KIND, either express or implied.\n",
              "// See the License for the specific language governing permissions and\n",
              "// limitations under the License.\n",
              "\n",
              "/**\n",
              " * @fileoverview Helpers for google.colab Python module.\n",
              " */\n",
              "(function(scope) {\n",
              "function span(text, styleAttributes = {}) {\n",
              "  const element = document.createElement('span');\n",
              "  element.textContent = text;\n",
              "  for (const key of Object.keys(styleAttributes)) {\n",
              "    element.style[key] = styleAttributes[key];\n",
              "  }\n",
              "  return element;\n",
              "}\n",
              "\n",
              "// Max number of bytes which will be uploaded at a time.\n",
              "const MAX_PAYLOAD_SIZE = 100 * 1024;\n",
              "\n",
              "function _uploadFiles(inputId, outputId) {\n",
              "  const steps = uploadFilesStep(inputId, outputId);\n",
              "  const outputElement = document.getElementById(outputId);\n",
              "  // Cache steps on the outputElement to make it available for the next call\n",
              "  // to uploadFilesContinue from Python.\n",
              "  outputElement.steps = steps;\n",
              "\n",
              "  return _uploadFilesContinue(outputId);\n",
              "}\n",
              "\n",
              "// This is roughly an async generator (not supported in the browser yet),\n",
              "// where there are multiple asynchronous steps and the Python side is going\n",
              "// to poll for completion of each step.\n",
              "// This uses a Promise to block the python side on completion of each step,\n",
              "// then passes the result of the previous step as the input to the next step.\n",
              "function _uploadFilesContinue(outputId) {\n",
              "  const outputElement = document.getElementById(outputId);\n",
              "  const steps = outputElement.steps;\n",
              "\n",
              "  const next = steps.next(outputElement.lastPromiseValue);\n",
              "  return Promise.resolve(next.value.promise).then((value) => {\n",
              "    // Cache the last promise value to make it available to the next\n",
              "    // step of the generator.\n",
              "    outputElement.lastPromiseValue = value;\n",
              "    return next.value.response;\n",
              "  });\n",
              "}\n",
              "\n",
              "/**\n",
              " * Generator function which is called between each async step of the upload\n",
              " * process.\n",
              " * @param {string} inputId Element ID of the input file picker element.\n",
              " * @param {string} outputId Element ID of the output display.\n",
              " * @return {!Iterable<!Object>} Iterable of next steps.\n",
              " */\n",
              "function* uploadFilesStep(inputId, outputId) {\n",
              "  const inputElement = document.getElementById(inputId);\n",
              "  inputElement.disabled = false;\n",
              "\n",
              "  const outputElement = document.getElementById(outputId);\n",
              "  outputElement.innerHTML = '';\n",
              "\n",
              "  const pickedPromise = new Promise((resolve) => {\n",
              "    inputElement.addEventListener('change', (e) => {\n",
              "      resolve(e.target.files);\n",
              "    });\n",
              "  });\n",
              "\n",
              "  const cancel = document.createElement('button');\n",
              "  inputElement.parentElement.appendChild(cancel);\n",
              "  cancel.textContent = 'Cancel upload';\n",
              "  const cancelPromise = new Promise((resolve) => {\n",
              "    cancel.onclick = () => {\n",
              "      resolve(null);\n",
              "    };\n",
              "  });\n",
              "\n",
              "  // Wait for the user to pick the files.\n",
              "  const files = yield {\n",
              "    promise: Promise.race([pickedPromise, cancelPromise]),\n",
              "    response: {\n",
              "      action: 'starting',\n",
              "    }\n",
              "  };\n",
              "\n",
              "  cancel.remove();\n",
              "\n",
              "  // Disable the input element since further picks are not allowed.\n",
              "  inputElement.disabled = true;\n",
              "\n",
              "  if (!files) {\n",
              "    return {\n",
              "      response: {\n",
              "        action: 'complete',\n",
              "      }\n",
              "    };\n",
              "  }\n",
              "\n",
              "  for (const file of files) {\n",
              "    const li = document.createElement('li');\n",
              "    li.append(span(file.name, {fontWeight: 'bold'}));\n",
              "    li.append(span(\n",
              "        `(${file.type || 'n/a'}) - ${file.size} bytes, ` +\n",
              "        `last modified: ${\n",
              "            file.lastModifiedDate ? file.lastModifiedDate.toLocaleDateString() :\n",
              "                                    'n/a'} - `));\n",
              "    const percent = span('0% done');\n",
              "    li.appendChild(percent);\n",
              "\n",
              "    outputElement.appendChild(li);\n",
              "\n",
              "    const fileDataPromise = new Promise((resolve) => {\n",
              "      const reader = new FileReader();\n",
              "      reader.onload = (e) => {\n",
              "        resolve(e.target.result);\n",
              "      };\n",
              "      reader.readAsArrayBuffer(file);\n",
              "    });\n",
              "    // Wait for the data to be ready.\n",
              "    let fileData = yield {\n",
              "      promise: fileDataPromise,\n",
              "      response: {\n",
              "        action: 'continue',\n",
              "      }\n",
              "    };\n",
              "\n",
              "    // Use a chunked sending to avoid message size limits. See b/62115660.\n",
              "    let position = 0;\n",
              "    do {\n",
              "      const length = Math.min(fileData.byteLength - position, MAX_PAYLOAD_SIZE);\n",
              "      const chunk = new Uint8Array(fileData, position, length);\n",
              "      position += length;\n",
              "\n",
              "      const base64 = btoa(String.fromCharCode.apply(null, chunk));\n",
              "      yield {\n",
              "        response: {\n",
              "          action: 'append',\n",
              "          file: file.name,\n",
              "          data: base64,\n",
              "        },\n",
              "      };\n",
              "\n",
              "      let percentDone = fileData.byteLength === 0 ?\n",
              "          100 :\n",
              "          Math.round((position / fileData.byteLength) * 100);\n",
              "      percent.textContent = `${percentDone}% done`;\n",
              "\n",
              "    } while (position < fileData.byteLength);\n",
              "  }\n",
              "\n",
              "  // All done.\n",
              "  yield {\n",
              "    response: {\n",
              "      action: 'complete',\n",
              "    }\n",
              "  };\n",
              "}\n",
              "\n",
              "scope.google = scope.google || {};\n",
              "scope.google.colab = scope.google.colab || {};\n",
              "scope.google.colab._files = {\n",
              "  _uploadFiles,\n",
              "  _uploadFilesContinue,\n",
              "};\n",
              "})(self);\n",
              "</script> "
            ]
          },
          "metadata": {}
        },
        {
          "output_type": "stream",
          "name": "stdout",
          "text": [
            "Saving healthcare_dataset.csv to healthcare_dataset.csv\n"
          ]
        }
      ],
      "source": [
        "from google.colab import files\n",
        "uploaded = files.upload()\n"
      ]
    },
    {
      "cell_type": "markdown",
      "source": [
        "**Function Used**:  files.upload()\n",
        "\n",
        "**Why:** To upload the dataset file (healthcare_dataset.csv) from your local computer to Colab.\n",
        "\n"
      ],
      "metadata": {
        "id": "Y5Q7EDfa8m92"
      }
    },
    {
      "cell_type": "code",
      "source": [
        "df = pd.read_csv('healthcare_dataset.csv')\n",
        "df.head()\n"
      ],
      "metadata": {
        "colab": {
          "base_uri": "https://localhost:8080/",
          "height": 347
        },
        "id": "_3zJFZOmIoY_",
        "outputId": "a7f82df9-90c7-404b-b569-73ccd4fe2513"
      },
      "execution_count": null,
      "outputs": [
        {
          "output_type": "execute_result",
          "data": {
            "text/plain": [
              "            Name  Age  Gender Blood Type Medical Condition Date of Admission  \\\n",
              "0  Bobby JacksOn   30    Male         B-            Cancer        2024-01-31   \n",
              "1   LesLie TErRy   62    Male         A+           Obesity        2019-08-20   \n",
              "2    DaNnY sMitH   76  Female         A-           Obesity        2022-09-22   \n",
              "3   andrEw waTtS   28  Female         O+          Diabetes        2020-11-18   \n",
              "4  adrIENNE bEll   43  Female        AB+            Cancer        2022-09-19   \n",
              "\n",
              "             Doctor                    Hospital Insurance Provider  \\\n",
              "0     Matthew Smith             Sons and Miller         Blue Cross   \n",
              "1   Samantha Davies                     Kim Inc           Medicare   \n",
              "2  Tiffany Mitchell                    Cook PLC              Aetna   \n",
              "3       Kevin Wells  Hernandez Rogers and Vang,           Medicare   \n",
              "4    Kathleen Hanna                 White-White              Aetna   \n",
              "\n",
              "   Billing Amount  Room Number Admission Type Discharge Date   Medication  \\\n",
              "0    18856.281306          328         Urgent     2024-02-02  Paracetamol   \n",
              "1    33643.327287          265      Emergency     2019-08-26    Ibuprofen   \n",
              "2    27955.096079          205      Emergency     2022-10-07      Aspirin   \n",
              "3    37909.782410          450       Elective     2020-12-18    Ibuprofen   \n",
              "4    14238.317814          458         Urgent     2022-10-09   Penicillin   \n",
              "\n",
              "   Test Results  \n",
              "0        Normal  \n",
              "1  Inconclusive  \n",
              "2        Normal  \n",
              "3      Abnormal  \n",
              "4      Abnormal  "
            ],
            "text/html": [
              "\n",
              "  <div id=\"df-ecc670c1-c764-41e0-9301-26f585ebd3a5\" class=\"colab-df-container\">\n",
              "    <div>\n",
              "<style scoped>\n",
              "    .dataframe tbody tr th:only-of-type {\n",
              "        vertical-align: middle;\n",
              "    }\n",
              "\n",
              "    .dataframe tbody tr th {\n",
              "        vertical-align: top;\n",
              "    }\n",
              "\n",
              "    .dataframe thead th {\n",
              "        text-align: right;\n",
              "    }\n",
              "</style>\n",
              "<table border=\"1\" class=\"dataframe\">\n",
              "  <thead>\n",
              "    <tr style=\"text-align: right;\">\n",
              "      <th></th>\n",
              "      <th>Name</th>\n",
              "      <th>Age</th>\n",
              "      <th>Gender</th>\n",
              "      <th>Blood Type</th>\n",
              "      <th>Medical Condition</th>\n",
              "      <th>Date of Admission</th>\n",
              "      <th>Doctor</th>\n",
              "      <th>Hospital</th>\n",
              "      <th>Insurance Provider</th>\n",
              "      <th>Billing Amount</th>\n",
              "      <th>Room Number</th>\n",
              "      <th>Admission Type</th>\n",
              "      <th>Discharge Date</th>\n",
              "      <th>Medication</th>\n",
              "      <th>Test Results</th>\n",
              "    </tr>\n",
              "  </thead>\n",
              "  <tbody>\n",
              "    <tr>\n",
              "      <th>0</th>\n",
              "      <td>Bobby JacksOn</td>\n",
              "      <td>30</td>\n",
              "      <td>Male</td>\n",
              "      <td>B-</td>\n",
              "      <td>Cancer</td>\n",
              "      <td>2024-01-31</td>\n",
              "      <td>Matthew Smith</td>\n",
              "      <td>Sons and Miller</td>\n",
              "      <td>Blue Cross</td>\n",
              "      <td>18856.281306</td>\n",
              "      <td>328</td>\n",
              "      <td>Urgent</td>\n",
              "      <td>2024-02-02</td>\n",
              "      <td>Paracetamol</td>\n",
              "      <td>Normal</td>\n",
              "    </tr>\n",
              "    <tr>\n",
              "      <th>1</th>\n",
              "      <td>LesLie TErRy</td>\n",
              "      <td>62</td>\n",
              "      <td>Male</td>\n",
              "      <td>A+</td>\n",
              "      <td>Obesity</td>\n",
              "      <td>2019-08-20</td>\n",
              "      <td>Samantha Davies</td>\n",
              "      <td>Kim Inc</td>\n",
              "      <td>Medicare</td>\n",
              "      <td>33643.327287</td>\n",
              "      <td>265</td>\n",
              "      <td>Emergency</td>\n",
              "      <td>2019-08-26</td>\n",
              "      <td>Ibuprofen</td>\n",
              "      <td>Inconclusive</td>\n",
              "    </tr>\n",
              "    <tr>\n",
              "      <th>2</th>\n",
              "      <td>DaNnY sMitH</td>\n",
              "      <td>76</td>\n",
              "      <td>Female</td>\n",
              "      <td>A-</td>\n",
              "      <td>Obesity</td>\n",
              "      <td>2022-09-22</td>\n",
              "      <td>Tiffany Mitchell</td>\n",
              "      <td>Cook PLC</td>\n",
              "      <td>Aetna</td>\n",
              "      <td>27955.096079</td>\n",
              "      <td>205</td>\n",
              "      <td>Emergency</td>\n",
              "      <td>2022-10-07</td>\n",
              "      <td>Aspirin</td>\n",
              "      <td>Normal</td>\n",
              "    </tr>\n",
              "    <tr>\n",
              "      <th>3</th>\n",
              "      <td>andrEw waTtS</td>\n",
              "      <td>28</td>\n",
              "      <td>Female</td>\n",
              "      <td>O+</td>\n",
              "      <td>Diabetes</td>\n",
              "      <td>2020-11-18</td>\n",
              "      <td>Kevin Wells</td>\n",
              "      <td>Hernandez Rogers and Vang,</td>\n",
              "      <td>Medicare</td>\n",
              "      <td>37909.782410</td>\n",
              "      <td>450</td>\n",
              "      <td>Elective</td>\n",
              "      <td>2020-12-18</td>\n",
              "      <td>Ibuprofen</td>\n",
              "      <td>Abnormal</td>\n",
              "    </tr>\n",
              "    <tr>\n",
              "      <th>4</th>\n",
              "      <td>adrIENNE bEll</td>\n",
              "      <td>43</td>\n",
              "      <td>Female</td>\n",
              "      <td>AB+</td>\n",
              "      <td>Cancer</td>\n",
              "      <td>2022-09-19</td>\n",
              "      <td>Kathleen Hanna</td>\n",
              "      <td>White-White</td>\n",
              "      <td>Aetna</td>\n",
              "      <td>14238.317814</td>\n",
              "      <td>458</td>\n",
              "      <td>Urgent</td>\n",
              "      <td>2022-10-09</td>\n",
              "      <td>Penicillin</td>\n",
              "      <td>Abnormal</td>\n",
              "    </tr>\n",
              "  </tbody>\n",
              "</table>\n",
              "</div>\n",
              "    <div class=\"colab-df-buttons\">\n",
              "\n",
              "  <div class=\"colab-df-container\">\n",
              "    <button class=\"colab-df-convert\" onclick=\"convertToInteractive('df-ecc670c1-c764-41e0-9301-26f585ebd3a5')\"\n",
              "            title=\"Convert this dataframe to an interactive table.\"\n",
              "            style=\"display:none;\">\n",
              "\n",
              "  <svg xmlns=\"http://www.w3.org/2000/svg\" height=\"24px\" viewBox=\"0 -960 960 960\">\n",
              "    <path d=\"M120-120v-720h720v720H120Zm60-500h600v-160H180v160Zm220 220h160v-160H400v160Zm0 220h160v-160H400v160ZM180-400h160v-160H180v160Zm440 0h160v-160H620v160ZM180-180h160v-160H180v160Zm440 0h160v-160H620v160Z\"/>\n",
              "  </svg>\n",
              "    </button>\n",
              "\n",
              "  <style>\n",
              "    .colab-df-container {\n",
              "      display:flex;\n",
              "      gap: 12px;\n",
              "    }\n",
              "\n",
              "    .colab-df-convert {\n",
              "      background-color: #E8F0FE;\n",
              "      border: none;\n",
              "      border-radius: 50%;\n",
              "      cursor: pointer;\n",
              "      display: none;\n",
              "      fill: #1967D2;\n",
              "      height: 32px;\n",
              "      padding: 0 0 0 0;\n",
              "      width: 32px;\n",
              "    }\n",
              "\n",
              "    .colab-df-convert:hover {\n",
              "      background-color: #E2EBFA;\n",
              "      box-shadow: 0px 1px 2px rgba(60, 64, 67, 0.3), 0px 1px 3px 1px rgba(60, 64, 67, 0.15);\n",
              "      fill: #174EA6;\n",
              "    }\n",
              "\n",
              "    .colab-df-buttons div {\n",
              "      margin-bottom: 4px;\n",
              "    }\n",
              "\n",
              "    [theme=dark] .colab-df-convert {\n",
              "      background-color: #3B4455;\n",
              "      fill: #D2E3FC;\n",
              "    }\n",
              "\n",
              "    [theme=dark] .colab-df-convert:hover {\n",
              "      background-color: #434B5C;\n",
              "      box-shadow: 0px 1px 3px 1px rgba(0, 0, 0, 0.15);\n",
              "      filter: drop-shadow(0px 1px 2px rgba(0, 0, 0, 0.3));\n",
              "      fill: #FFFFFF;\n",
              "    }\n",
              "  </style>\n",
              "\n",
              "    <script>\n",
              "      const buttonEl =\n",
              "        document.querySelector('#df-ecc670c1-c764-41e0-9301-26f585ebd3a5 button.colab-df-convert');\n",
              "      buttonEl.style.display =\n",
              "        google.colab.kernel.accessAllowed ? 'block' : 'none';\n",
              "\n",
              "      async function convertToInteractive(key) {\n",
              "        const element = document.querySelector('#df-ecc670c1-c764-41e0-9301-26f585ebd3a5');\n",
              "        const dataTable =\n",
              "          await google.colab.kernel.invokeFunction('convertToInteractive',\n",
              "                                                    [key], {});\n",
              "        if (!dataTable) return;\n",
              "\n",
              "        const docLinkHtml = 'Like what you see? Visit the ' +\n",
              "          '<a target=\"_blank\" href=https://colab.research.google.com/notebooks/data_table.ipynb>data table notebook</a>'\n",
              "          + ' to learn more about interactive tables.';\n",
              "        element.innerHTML = '';\n",
              "        dataTable['output_type'] = 'display_data';\n",
              "        await google.colab.output.renderOutput(dataTable, element);\n",
              "        const docLink = document.createElement('div');\n",
              "        docLink.innerHTML = docLinkHtml;\n",
              "        element.appendChild(docLink);\n",
              "      }\n",
              "    </script>\n",
              "  </div>\n",
              "\n",
              "\n",
              "    <div id=\"df-5437db91-36a6-4860-abc2-2bc19a6cdab5\">\n",
              "      <button class=\"colab-df-quickchart\" onclick=\"quickchart('df-5437db91-36a6-4860-abc2-2bc19a6cdab5')\"\n",
              "                title=\"Suggest charts\"\n",
              "                style=\"display:none;\">\n",
              "\n",
              "<svg xmlns=\"http://www.w3.org/2000/svg\" height=\"24px\"viewBox=\"0 0 24 24\"\n",
              "     width=\"24px\">\n",
              "    <g>\n",
              "        <path d=\"M19 3H5c-1.1 0-2 .9-2 2v14c0 1.1.9 2 2 2h14c1.1 0 2-.9 2-2V5c0-1.1-.9-2-2-2zM9 17H7v-7h2v7zm4 0h-2V7h2v10zm4 0h-2v-4h2v4z\"/>\n",
              "    </g>\n",
              "</svg>\n",
              "      </button>\n",
              "\n",
              "<style>\n",
              "  .colab-df-quickchart {\n",
              "      --bg-color: #E8F0FE;\n",
              "      --fill-color: #1967D2;\n",
              "      --hover-bg-color: #E2EBFA;\n",
              "      --hover-fill-color: #174EA6;\n",
              "      --disabled-fill-color: #AAA;\n",
              "      --disabled-bg-color: #DDD;\n",
              "  }\n",
              "\n",
              "  [theme=dark] .colab-df-quickchart {\n",
              "      --bg-color: #3B4455;\n",
              "      --fill-color: #D2E3FC;\n",
              "      --hover-bg-color: #434B5C;\n",
              "      --hover-fill-color: #FFFFFF;\n",
              "      --disabled-bg-color: #3B4455;\n",
              "      --disabled-fill-color: #666;\n",
              "  }\n",
              "\n",
              "  .colab-df-quickchart {\n",
              "    background-color: var(--bg-color);\n",
              "    border: none;\n",
              "    border-radius: 50%;\n",
              "    cursor: pointer;\n",
              "    display: none;\n",
              "    fill: var(--fill-color);\n",
              "    height: 32px;\n",
              "    padding: 0;\n",
              "    width: 32px;\n",
              "  }\n",
              "\n",
              "  .colab-df-quickchart:hover {\n",
              "    background-color: var(--hover-bg-color);\n",
              "    box-shadow: 0 1px 2px rgba(60, 64, 67, 0.3), 0 1px 3px 1px rgba(60, 64, 67, 0.15);\n",
              "    fill: var(--button-hover-fill-color);\n",
              "  }\n",
              "\n",
              "  .colab-df-quickchart-complete:disabled,\n",
              "  .colab-df-quickchart-complete:disabled:hover {\n",
              "    background-color: var(--disabled-bg-color);\n",
              "    fill: var(--disabled-fill-color);\n",
              "    box-shadow: none;\n",
              "  }\n",
              "\n",
              "  .colab-df-spinner {\n",
              "    border: 2px solid var(--fill-color);\n",
              "    border-color: transparent;\n",
              "    border-bottom-color: var(--fill-color);\n",
              "    animation:\n",
              "      spin 1s steps(1) infinite;\n",
              "  }\n",
              "\n",
              "  @keyframes spin {\n",
              "    0% {\n",
              "      border-color: transparent;\n",
              "      border-bottom-color: var(--fill-color);\n",
              "      border-left-color: var(--fill-color);\n",
              "    }\n",
              "    20% {\n",
              "      border-color: transparent;\n",
              "      border-left-color: var(--fill-color);\n",
              "      border-top-color: var(--fill-color);\n",
              "    }\n",
              "    30% {\n",
              "      border-color: transparent;\n",
              "      border-left-color: var(--fill-color);\n",
              "      border-top-color: var(--fill-color);\n",
              "      border-right-color: var(--fill-color);\n",
              "    }\n",
              "    40% {\n",
              "      border-color: transparent;\n",
              "      border-right-color: var(--fill-color);\n",
              "      border-top-color: var(--fill-color);\n",
              "    }\n",
              "    60% {\n",
              "      border-color: transparent;\n",
              "      border-right-color: var(--fill-color);\n",
              "    }\n",
              "    80% {\n",
              "      border-color: transparent;\n",
              "      border-right-color: var(--fill-color);\n",
              "      border-bottom-color: var(--fill-color);\n",
              "    }\n",
              "    90% {\n",
              "      border-color: transparent;\n",
              "      border-bottom-color: var(--fill-color);\n",
              "    }\n",
              "  }\n",
              "</style>\n",
              "\n",
              "      <script>\n",
              "        async function quickchart(key) {\n",
              "          const quickchartButtonEl =\n",
              "            document.querySelector('#' + key + ' button');\n",
              "          quickchartButtonEl.disabled = true;  // To prevent multiple clicks.\n",
              "          quickchartButtonEl.classList.add('colab-df-spinner');\n",
              "          try {\n",
              "            const charts = await google.colab.kernel.invokeFunction(\n",
              "                'suggestCharts', [key], {});\n",
              "          } catch (error) {\n",
              "            console.error('Error during call to suggestCharts:', error);\n",
              "          }\n",
              "          quickchartButtonEl.classList.remove('colab-df-spinner');\n",
              "          quickchartButtonEl.classList.add('colab-df-quickchart-complete');\n",
              "        }\n",
              "        (() => {\n",
              "          let quickchartButtonEl =\n",
              "            document.querySelector('#df-5437db91-36a6-4860-abc2-2bc19a6cdab5 button');\n",
              "          quickchartButtonEl.style.display =\n",
              "            google.colab.kernel.accessAllowed ? 'block' : 'none';\n",
              "        })();\n",
              "      </script>\n",
              "    </div>\n",
              "\n",
              "    </div>\n",
              "  </div>\n"
            ],
            "application/vnd.google.colaboratory.intrinsic+json": {
              "type": "dataframe",
              "variable_name": "df",
              "summary": "{\n  \"name\": \"df\",\n  \"rows\": 55500,\n  \"fields\": [\n    {\n      \"column\": \"Name\",\n      \"properties\": {\n        \"dtype\": \"string\",\n        \"num_unique_values\": 49992,\n        \"samples\": [\n          \"LaURIE HenRy\",\n          \"vaNEssA HoLLANd\",\n          \"johN bLanCHarD\"\n        ],\n        \"semantic_type\": \"\",\n        \"description\": \"\"\n      }\n    },\n    {\n      \"column\": \"Age\",\n      \"properties\": {\n        \"dtype\": \"number\",\n        \"std\": 19,\n        \"min\": 13,\n        \"max\": 89,\n        \"num_unique_values\": 77,\n        \"samples\": [\n          43,\n          22,\n          72\n        ],\n        \"semantic_type\": \"\",\n        \"description\": \"\"\n      }\n    },\n    {\n      \"column\": \"Gender\",\n      \"properties\": {\n        \"dtype\": \"category\",\n        \"num_unique_values\": 2,\n        \"samples\": [\n          \"Female\",\n          \"Male\"\n        ],\n        \"semantic_type\": \"\",\n        \"description\": \"\"\n      }\n    },\n    {\n      \"column\": \"Blood Type\",\n      \"properties\": {\n        \"dtype\": \"category\",\n        \"num_unique_values\": 8,\n        \"samples\": [\n          \"A+\",\n          \"AB-\"\n        ],\n        \"semantic_type\": \"\",\n        \"description\": \"\"\n      }\n    },\n    {\n      \"column\": \"Medical Condition\",\n      \"properties\": {\n        \"dtype\": \"category\",\n        \"num_unique_values\": 6,\n        \"samples\": [\n          \"Cancer\",\n          \"Obesity\"\n        ],\n        \"semantic_type\": \"\",\n        \"description\": \"\"\n      }\n    },\n    {\n      \"column\": \"Date of Admission\",\n      \"properties\": {\n        \"dtype\": \"object\",\n        \"num_unique_values\": 1827,\n        \"samples\": [\n          \"2022-12-24\",\n          \"2022-02-14\"\n        ],\n        \"semantic_type\": \"\",\n        \"description\": \"\"\n      }\n    },\n    {\n      \"column\": \"Doctor\",\n      \"properties\": {\n        \"dtype\": \"string\",\n        \"num_unique_values\": 40341,\n        \"samples\": [\n          \"Aaron Curtis\",\n          \"Claudia Thompson\"\n        ],\n        \"semantic_type\": \"\",\n        \"description\": \"\"\n      }\n    },\n    {\n      \"column\": \"Hospital\",\n      \"properties\": {\n        \"dtype\": \"string\",\n        \"num_unique_values\": 39876,\n        \"samples\": [\n          \"Fitzpatrick-Robinson\",\n          \"Smith, Luna May and\"\n        ],\n        \"semantic_type\": \"\",\n        \"description\": \"\"\n      }\n    },\n    {\n      \"column\": \"Insurance Provider\",\n      \"properties\": {\n        \"dtype\": \"category\",\n        \"num_unique_values\": 5,\n        \"samples\": [\n          \"Medicare\",\n          \"Cigna\"\n        ],\n        \"semantic_type\": \"\",\n        \"description\": \"\"\n      }\n    },\n    {\n      \"column\": \"Billing Amount\",\n      \"properties\": {\n        \"dtype\": \"number\",\n        \"std\": 14211.45443086446,\n        \"min\": -2008.4921398591305,\n        \"max\": 52764.276736469175,\n        \"num_unique_values\": 50000,\n        \"samples\": [\n          41172.960486003554,\n          7672.233633429568\n        ],\n        \"semantic_type\": \"\",\n        \"description\": \"\"\n      }\n    },\n    {\n      \"column\": \"Room Number\",\n      \"properties\": {\n        \"dtype\": \"number\",\n        \"std\": 115,\n        \"min\": 101,\n        \"max\": 500,\n        \"num_unique_values\": 400,\n        \"samples\": [\n          176,\n          146\n        ],\n        \"semantic_type\": \"\",\n        \"description\": \"\"\n      }\n    },\n    {\n      \"column\": \"Admission Type\",\n      \"properties\": {\n        \"dtype\": \"category\",\n        \"num_unique_values\": 3,\n        \"samples\": [\n          \"Urgent\",\n          \"Emergency\"\n        ],\n        \"semantic_type\": \"\",\n        \"description\": \"\"\n      }\n    },\n    {\n      \"column\": \"Discharge Date\",\n      \"properties\": {\n        \"dtype\": \"object\",\n        \"num_unique_values\": 1856,\n        \"samples\": [\n          \"2020-10-29\",\n          \"2023-05-19\"\n        ],\n        \"semantic_type\": \"\",\n        \"description\": \"\"\n      }\n    },\n    {\n      \"column\": \"Medication\",\n      \"properties\": {\n        \"dtype\": \"category\",\n        \"num_unique_values\": 5,\n        \"samples\": [\n          \"Ibuprofen\",\n          \"Lipitor\"\n        ],\n        \"semantic_type\": \"\",\n        \"description\": \"\"\n      }\n    },\n    {\n      \"column\": \"Test Results\",\n      \"properties\": {\n        \"dtype\": \"category\",\n        \"num_unique_values\": 3,\n        \"samples\": [\n          \"Normal\",\n          \"Inconclusive\"\n        ],\n        \"semantic_type\": \"\",\n        \"description\": \"\"\n      }\n    }\n  ]\n}"
            }
          },
          "metadata": {},
          "execution_count": 3
        }
      ]
    },
    {
      "cell_type": "markdown",
      "source": [
        "**Functions Used:** pd.read_csv(), df.head()\\\n",
        "**Why:**\n",
        "read_csv() loads the CSV file into a DataFrame.\n",
        "\n",
        "head() shows the first 5 rows to understand the data.\n"
      ],
      "metadata": {
        "id": "4Py0dZ2WZILv"
      }
    },
    {
      "cell_type": "markdown",
      "source": [],
      "metadata": {
        "id": "ogiV5N08ZYeK"
      }
    },
    {
      "cell_type": "code",
      "source": [
        "df.dropna(inplace=True)\n"
      ],
      "metadata": {
        "id": "fIuaZWtPKMLE"
      },
      "execution_count": null,
      "outputs": []
    },
    {
      "cell_type": "code",
      "source": [
        "df.isnull().sum()"
      ],
      "metadata": {
        "colab": {
          "base_uri": "https://localhost:8080/",
          "height": 554
        },
        "id": "Ua8DUI7mIob8",
        "outputId": "d9fc9294-adec-4ea3-e687-ecc95828b08f"
      },
      "execution_count": null,
      "outputs": [
        {
          "output_type": "execute_result",
          "data": {
            "text/plain": [
              "Name                  0\n",
              "Age                   0\n",
              "Gender                0\n",
              "Blood Type            0\n",
              "Medical Condition     0\n",
              "Date of Admission     0\n",
              "Doctor                0\n",
              "Hospital              0\n",
              "Insurance Provider    0\n",
              "Billing Amount        0\n",
              "Room Number           0\n",
              "Admission Type        0\n",
              "Discharge Date        0\n",
              "Medication            0\n",
              "Test Results          0\n",
              "dtype: int64"
            ],
            "text/html": [
              "<div>\n",
              "<style scoped>\n",
              "    .dataframe tbody tr th:only-of-type {\n",
              "        vertical-align: middle;\n",
              "    }\n",
              "\n",
              "    .dataframe tbody tr th {\n",
              "        vertical-align: top;\n",
              "    }\n",
              "\n",
              "    .dataframe thead th {\n",
              "        text-align: right;\n",
              "    }\n",
              "</style>\n",
              "<table border=\"1\" class=\"dataframe\">\n",
              "  <thead>\n",
              "    <tr style=\"text-align: right;\">\n",
              "      <th></th>\n",
              "      <th>0</th>\n",
              "    </tr>\n",
              "  </thead>\n",
              "  <tbody>\n",
              "    <tr>\n",
              "      <th>Name</th>\n",
              "      <td>0</td>\n",
              "    </tr>\n",
              "    <tr>\n",
              "      <th>Age</th>\n",
              "      <td>0</td>\n",
              "    </tr>\n",
              "    <tr>\n",
              "      <th>Gender</th>\n",
              "      <td>0</td>\n",
              "    </tr>\n",
              "    <tr>\n",
              "      <th>Blood Type</th>\n",
              "      <td>0</td>\n",
              "    </tr>\n",
              "    <tr>\n",
              "      <th>Medical Condition</th>\n",
              "      <td>0</td>\n",
              "    </tr>\n",
              "    <tr>\n",
              "      <th>Date of Admission</th>\n",
              "      <td>0</td>\n",
              "    </tr>\n",
              "    <tr>\n",
              "      <th>Doctor</th>\n",
              "      <td>0</td>\n",
              "    </tr>\n",
              "    <tr>\n",
              "      <th>Hospital</th>\n",
              "      <td>0</td>\n",
              "    </tr>\n",
              "    <tr>\n",
              "      <th>Insurance Provider</th>\n",
              "      <td>0</td>\n",
              "    </tr>\n",
              "    <tr>\n",
              "      <th>Billing Amount</th>\n",
              "      <td>0</td>\n",
              "    </tr>\n",
              "    <tr>\n",
              "      <th>Room Number</th>\n",
              "      <td>0</td>\n",
              "    </tr>\n",
              "    <tr>\n",
              "      <th>Admission Type</th>\n",
              "      <td>0</td>\n",
              "    </tr>\n",
              "    <tr>\n",
              "      <th>Discharge Date</th>\n",
              "      <td>0</td>\n",
              "    </tr>\n",
              "    <tr>\n",
              "      <th>Medication</th>\n",
              "      <td>0</td>\n",
              "    </tr>\n",
              "    <tr>\n",
              "      <th>Test Results</th>\n",
              "      <td>0</td>\n",
              "    </tr>\n",
              "  </tbody>\n",
              "</table>\n",
              "</div><br><label><b>dtype:</b> int64</label>"
            ]
          },
          "metadata": {},
          "execution_count": 5
        }
      ]
    },
    {
      "cell_type": "markdown",
      "source": [
        "**Functions Used:** dropna(), isnull().sum()\\\n",
        "**Why:** dropna() removes rows with empty (missing) values.\\\n",
        "isnull().sum() checks how many missing values are left."
      ],
      "metadata": {
        "id": "1VQDz7r89SNt"
      }
    },
    {
      "cell_type": "code",
      "source": [
        "le = LabelEncoder()\n",
        "df['Test Results'] = le.fit_transform(df['Test Results'])\n",
        "\n",
        "if 'Gender' in df.columns:\n",
        "    df['Gender'] = LabelEncoder().fit_transform(df['Gender'])"
      ],
      "metadata": {
        "id": "DueI41L4Ioec"
      },
      "execution_count": null,
      "outputs": []
    },
    {
      "cell_type": "markdown",
      "source": [
        "**Function Used:** LabelEncoder(),.fit_transform()\\\n",
        "**Why:** Converts text labels (like \"Positive\", \"Negative\") into numbers (0, 1) so the model can use them."
      ],
      "metadata": {
        "id": "hmDoc29_96PJ"
      }
    },
    {
      "cell_type": "code",
      "source": [
        "\n",
        "X = df[['Age', 'Billing Amount']]\n",
        "\n",
        "y = df['Test Results']\n"
      ],
      "metadata": {
        "id": "xmXqm09bIogu"
      },
      "execution_count": null,
      "outputs": []
    },
    {
      "cell_type": "markdown",
      "source": [
        "X contains input features; y contains the output (target) the model will learn to predict."
      ],
      "metadata": {
        "id": "vrXsIyJL-M0H"
      }
    },
    {
      "cell_type": "code",
      "source": [
        "scaler = StandardScaler()\n",
        "X_scaled = scaler.fit_transform(X)"
      ],
      "metadata": {
        "id": "Y6--ow6pIojO"
      },
      "execution_count": null,
      "outputs": []
    },
    {
      "cell_type": "markdown",
      "source": [
        "**Function Used:** StandardScaler().fit_transform()\\\n",
        "**Why:** Standardizes the data so each feature has equal importance (mean = 0, std = 1)."
      ],
      "metadata": {
        "id": "Pgxu8Tcc-UTv"
      }
    },
    {
      "cell_type": "code",
      "source": [
        "from sklearn.model_selection import train_test_split\n",
        "\n",
        "X_train, X_test, y_train, y_test = train_test_split(\n",
        "    X_scaled, y, test_size=0.1, random_state=42\n",
        ")\n"
      ],
      "metadata": {
        "id": "g9EFs0sUIol1"
      },
      "execution_count": null,
      "outputs": []
    },
    {
      "cell_type": "markdown",
      "source": [
        "**Function Used:** train_test_split()\\\n",
        "**Why:** Splits the data — 90% for training,\\\n",
        "10% for testing — to evaluate model performance."
      ],
      "metadata": {
        "id": "tmeTR5R4-lgd"
      }
    },
    {
      "cell_type": "code",
      "source": [
        "# Linear Regression\n",
        "from sklearn.linear_model import LinearRegression\n",
        "\n",
        "lr_model = LinearRegression()\n",
        "lr_model.fit(X_train, y_train)\n",
        "lr_preds = lr_model.predict(X_test)\n",
        "\n",
        "\n",
        "print(\"Linear Regression Predictions (rounded):\")\n",
        "print(np.round(lr_preds[:5]))\n"
      ],
      "metadata": {
        "colab": {
          "base_uri": "https://localhost:8080/"
        },
        "id": "orgEspQdIooM",
        "outputId": "2a133a1e-9e24-4bf4-c1ef-7afe3c14e9b5"
      },
      "execution_count": null,
      "outputs": [
        {
          "output_type": "stream",
          "name": "stdout",
          "text": [
            "Linear Regression Predictions (rounded):\n",
            "[1. 1. 1. 1. 1.]\n"
          ]
        }
      ]
    },
    {
      "cell_type": "markdown",
      "source": [
        "**Functions Used:** LinearRegression(), fit(), predict(), np.round()\n",
        "\n",
        "**Why:** Trains a linear model and makes predictions. round() shows nearest whole number output,\\\n",
        "fit() trains the model,\\\n",
        "predict() makes predictions."
      ],
      "metadata": {
        "id": "FSya8Hkv-3aE"
      }
    },
    {
      "cell_type": "code",
      "source": [
        "# Logistic Regression\n",
        "from sklearn.linear_model import LogisticRegression\n",
        "from sklearn.metrics import accuracy_score\n",
        "\n",
        "log_model = LogisticRegression(max_iter=1000, C=10)\n",
        "log_model.fit(X_train, y_train)\n",
        "log_preds = log_model.predict(X_test)\n",
        "\n",
        "\n",
        "print(\"Logistic Regression Accuracy:\")\n",
        "print(accuracy_score(y_test, log_preds))\n"
      ],
      "metadata": {
        "colab": {
          "base_uri": "https://localhost:8080/"
        },
        "id": "VACJIBLfIoqf",
        "outputId": "4550c686-281b-449e-eec4-0fbce6e368bb"
      },
      "execution_count": null,
      "outputs": [
        {
          "output_type": "stream",
          "name": "stdout",
          "text": [
            "Logistic Regression Accuracy:\n",
            "0.33981981981981985\n"
          ]
        }
      ]
    },
    {
      "cell_type": "markdown",
      "source": [
        "**Functions Used:** LogisticRegression(), fit(), predict(), accuracy_score()\n",
        "\n",
        "**Why:** For binary classification (0 or 1). accuracy_score() checks how correct the model is."
      ],
      "metadata": {
        "id": "UyEpK6GJ_BbD"
      }
    },
    {
      "cell_type": "code",
      "source": [
        "# KMeans Clustering\n",
        "from sklearn.cluster import KMeans\n",
        "\n",
        "kmeans = KMeans(n_clusters=3, random_state=42)\n",
        "kmeans.fit(X_scaled)\n",
        "\n",
        "\n",
        "print(\"KMeans Cluster Centers:\")\n",
        "print(kmeans.cluster_centers_)\n"
      ],
      "metadata": {
        "colab": {
          "base_uri": "https://localhost:8080/"
        },
        "id": "tW8PSHRXIotH",
        "outputId": "69f89d2b-cfc1-47b2-bbba-8d5ee5ed9c9e"
      },
      "execution_count": null,
      "outputs": [
        {
          "output_type": "stream",
          "name": "stdout",
          "text": [
            "KMeans Cluster Centers:\n",
            "[[ 0.94477237 -0.59578901]\n",
            " [-0.91383112 -0.66614254]\n",
            " [-0.04114028  1.050907  ]]\n"
          ]
        }
      ]
    },
    {
      "cell_type": "markdown",
      "source": [
        "**Functions Used:** KMeans(), fit(), cluster_centers_\n",
        "\n",
        "**Why:** Clusters the data into 3 groups (unsupervised learning). Helps detect patterns,\\\n",
        "cluster_centers_ Gives the center points of each cluster."
      ],
      "metadata": {
        "id": "JjpD7vPr_Jyy"
      }
    },
    {
      "cell_type": "code",
      "source": [
        "# K-Nearest Neighbors (KNN)\n",
        "from sklearn.neighbors import KNeighborsClassifier\n",
        "from sklearn.metrics import accuracy_score\n",
        "\n",
        "knn = KNeighborsClassifier(n_neighbors=5)  # k = 5\n",
        "knn.fit(X_train, y_train)\n",
        "knn_preds = knn.predict(X_test)\n",
        "\n",
        "print(\"KNN Accuracy:\")\n",
        "print(accuracy_score(y_test, knn_preds))\n"
      ],
      "metadata": {
        "colab": {
          "base_uri": "https://localhost:8080/"
        },
        "id": "k8nc0VlwIovx",
        "outputId": "d78d3a09-9188-4b89-9f25-e00bf51edacb"
      },
      "execution_count": null,
      "outputs": [
        {
          "output_type": "stream",
          "name": "stdout",
          "text": [
            "KNN Accuracy:\n",
            "0.34\n"
          ]
        }
      ]
    },
    {
      "cell_type": "markdown",
      "source": [
        "**Functions Used:** KNeighborsClassifier(), fit(), predict(), accuracy_score()\n",
        "\n",
        "**Why:** Predicts test results based on the 5 nearest neighbors.\\\n",
        "accuracy_score() Measures how good predictions are."
      ],
      "metadata": {
        "id": "olRGNZAO_RBa"
      }
    },
    {
      "cell_type": "code",
      "source": [
        "# Support Vector Machine (SVM)\n",
        "from sklearn.svm import SVC\n",
        "from sklearn.metrics import accuracy_score\n",
        "\n",
        "svm = SVC(kernel='linear')\n",
        "svm.fit(X_train, y_train)\n",
        "svm_preds = svm.predict(X_test)\n",
        "\n",
        "print(\"SVM Accuracy:\")\n",
        "print(accuracy_score(y_test, svm_preds))\n"
      ],
      "metadata": {
        "colab": {
          "base_uri": "https://localhost:8080/"
        },
        "id": "jivrZ-ZrIoyN",
        "outputId": "94088a4f-7f4f-4d91-d72a-08f3cabf7728"
      },
      "execution_count": null,
      "outputs": [
        {
          "output_type": "stream",
          "name": "stdout",
          "text": [
            "SVM Accuracy:\n",
            "0.3403603603603604\n"
          ]
        }
      ]
    },
    {
      "cell_type": "markdown",
      "source": [
        "**Functions Used:** SVC(), fit(), predict(), accuracy_score()\n",
        "\n",
        "**Why:** Creates a line (hyperplane) to separate classes clearly."
      ],
      "metadata": {
        "id": "ewUTVokt_Wav"
      }
    },
    {
      "cell_type": "code",
      "source": [],
      "metadata": {
        "id": "QaKSFvXzIo0d"
      },
      "execution_count": null,
      "outputs": []
    },
    {
      "cell_type": "code",
      "source": [],
      "metadata": {
        "id": "LwpSnAT_Io3P"
      },
      "execution_count": null,
      "outputs": []
    },
    {
      "cell_type": "code",
      "source": [],
      "metadata": {
        "id": "aLj4cfQ_Io6a"
      },
      "execution_count": null,
      "outputs": []
    }
  ]
}